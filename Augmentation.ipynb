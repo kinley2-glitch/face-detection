{
 "cells": [
  {
   "cell_type": "code",
   "execution_count": 1,
   "id": "421b31ea",
   "metadata": {},
   "outputs": [],
   "source": [
    "# Importing libraries & dependencies\n",
    "import os\n",
    "import cv2\n",
    "import random\n",
    "import numpy as np\n",
    "from PIL import Image"
   ]
  },
  {
   "cell_type": "code",
   "execution_count": 2,
   "id": "38ac4e9c",
   "metadata": {},
   "outputs": [],
   "source": [
    "# Initialization\n",
    "ext = '.jpg'"
   ]
  },
  {
   "cell_type": "code",
   "execution_count": 3,
   "id": "76440f93",
   "metadata": {},
   "outputs": [],
   "source": [
    "def invert_image(image, channel, count):\n",
    "    image = (channel-image)\n",
    "    cv2.imwrite(path + \"/Invert/\" + str(channel) + '-' + str(count)+ ext, image)"
   ]
  },
  {
   "cell_type": "code",
   "execution_count": 4,
   "id": "8ff19165",
   "metadata": {},
   "outputs": [],
   "source": [
    "def add_light(image, gamma, count):\n",
    "    inverseGamma = 1.0 / gamma\n",
    "    table = np.array([((i / 255.0) ** inverseGamma) *\n",
    "                      255 for i in np.arange(0, 256)]).astype(\"uint8\")\n",
    "    image = cv2.LUT(image, table)\n",
    "    if gamma >= 1:\n",
    "        cv2.imwrite(path + \"/Light/\" +\n",
    "                    str(format(gamma, '.1f')) +'-'+ str(count) + ext, image)\n",
    "    else:\n",
    "        cv2.imwrite(path + \"/Dark/\" +\n",
    "                    str(format(gamma, '.1f')) +'-'+ str(count) + ext, image)"
   ]
  },
  {
   "cell_type": "code",
   "execution_count": 5,
   "id": "89d9f7bc",
   "metadata": {},
   "outputs": [],
   "source": [
    "def add_light_color(image, color, gamma, count):\n",
    "    inverseGamma = 1.0 / gamma\n",
    "    image = (color - image)\n",
    "    table = np.array([((i / 255.0) ** inverseGamma) *\n",
    "                      255 for i in np.arange(0, 256)]).astype(\"uint8\")\n",
    "    image = cv2.LUT(image, table)\n",
    "    if gamma >= 1:\n",
    "        cv2.imwrite(path + \"/Light_color/\" +\n",
    "                    str(format(gamma, '.1f')) +'-'+ str(count) + ext, image)\n",
    "    else :\n",
    "        cv2.imwrite(path + \"/Dark_color/\" +\n",
    "                    str(format(gamma, '.1f')) +'-'+ str(count) + ext, image)"
   ]
  },
  {
   "cell_type": "code",
   "execution_count": 6,
   "id": "7fec1b37",
   "metadata": {},
   "outputs": [],
   "source": [
    "def saturation_image(image, saturation, count):\n",
    "    image = cv2.cvtColor(image, cv2.COLOR_BGR2HSV)\n",
    "\n",
    "    v = image[:, :, 2]\n",
    "    v = np.where(v <= 255 - saturation, v + saturation, 255)\n",
    "    image[:, :, 2] = v\n",
    "\n",
    "    image = cv2.cvtColor(image, cv2.COLOR_HSV2BGR)\n",
    "    cv2.imwrite(path + \"/Saturation/\" +\n",
    "                str(saturation) +'-'+ str(count) + ext, image)"
   ]
  },
  {
   "cell_type": "code",
   "execution_count": 21,
   "id": "7f556c33",
   "metadata": {},
   "outputs": [],
   "source": [
    "def average_blur(image, shift, count):\n",
    "    image = cv2.blur(image, (shift, shift))\n",
    "    cv2.imwrite(path + \"/Averageing_Blur/\" +\n",
    "                str(shift) +'-'+ str(count) + ext, image)"
   ]
  },
  {
   "cell_type": "code",
   "execution_count": 8,
   "id": "ef444110",
   "metadata": {},
   "outputs": [],
   "source": [
    "def sharpen_image(image, count):\n",
    "    kernel = np.array([[0, -1, 0], [-1, 5, -1], [0, -1, 0]])\n",
    "    image = cv2.filter2D(image, -1, kernel)\n",
    "    cv2.imwrite(path +\"/Sharpen/\" +str(count)+ext, image)"
   ]
  },
  {
   "cell_type": "code",
   "execution_count": 9,
   "id": "33154e9a",
   "metadata": {},
   "outputs": [],
   "source": [
    "def grayscale_image(image, count):\n",
    "    image = cv2.cvtColor(image, cv2.COLOR_BGR2GRAY)\n",
    "    cv2.imwrite(path + \n",
    "                \"/Grayscale/\" + str(count) + ext, image)"
   ]
  },
  {
   "cell_type": "code",
   "execution_count": 10,
   "id": "d371f092",
   "metadata": {},
   "outputs": [],
   "source": [
    "def median_blur(image, shift, count):\n",
    "    image = cv2.medianBlur(image, shift)\n",
    "    cv2.imwrite(path + \"/Median_Blur/\" +\n",
    "                str(shift)+'-'+str(count) + ext, image)"
   ]
  },
  {
   "cell_type": "code",
   "execution_count": 11,
   "id": "caa66115",
   "metadata": {},
   "outputs": [],
   "source": [
    "def multiply_image(image, R, G, B, count):\n",
    "    image = image*[R, G, B]\n",
    "    cv2.imwrite(path + \"/Multiply/\" +\n",
    "                str(R)+'-'+str(G)+'-'+str(B)+'-'+str(count)+ext, image)"
   ]
  },
  {
   "cell_type": "code",
   "execution_count": 12,
   "id": "18350720",
   "metadata": {},
   "outputs": [],
   "source": [
    "def bileteralBlur(image, d, color, space, count):\n",
    "    image = cv2.bilateralFilter(image, d, color, space)\n",
    "    cv2.imwrite(path + \"/Bileteral_Blur/\"+str(d) +'-'+\n",
    "                str(color)+'-'+str(space) +'-'+ str(count) + ext, image)"
   ]
  },
  {
   "cell_type": "code",
   "execution_count": 13,
   "id": "59a647a3",
   "metadata": {},
   "outputs": [],
   "source": [
    "def erosion_image(image, shift, count):\n",
    "    kernel = np.ones((shift, shift), np.uint8)\n",
    "    image = cv2.erode(image, kernel, iterations=1)\n",
    "    cv2.imwrite(path + \"/Erosion/\" + str(shift)+'-'+str(count) + ext, image)"
   ]
  },
  {
   "cell_type": "code",
   "execution_count": 14,
   "id": "4e22ebe6",
   "metadata": {},
   "outputs": [],
   "source": [
    "def dilation_image(image, shift, count):\n",
    "    kernel = np.ones((shift, shift), np.uint8)\n",
    "    image = cv2.dilate(image, kernel, iterations=1)\n",
    "    cv2.imwrite(path + \"/Dilation/\" + str(shift)+'-'+str(count) + ext, image)"
   ]
  },
  {
   "cell_type": "code",
   "execution_count": 15,
   "id": "a1d38e1e",
   "metadata": {},
   "outputs": [],
   "source": [
    "def morphological_gradient_image(image, shift, count):\n",
    "    kernel = np.ones((shift, shift), np.uint8)\n",
    "    image = cv2.morphologyEx(image, cv2.MORPH_GRADIENT, kernel)\n",
    "    cv2.imwrite(path + \"/Morphological_Gradient/\" +\n",
    "                str(shift)+'-'+str(count) + ext, image)"
   ]
  },
  {
   "cell_type": "code",
   "execution_count": 16,
   "id": "508a221f",
   "metadata": {},
   "outputs": [],
   "source": [
    "def top_hat_image(image, shift, count):\n",
    "    kernel = np.ones((shift, shift), np.uint8)\n",
    "    image = cv2.morphologyEx(image, cv2.MORPH_TOPHAT, kernel)\n",
    "    cv2.imwrite(path + \"/Top_Hat/\" +\n",
    "                str(shift)+'-'+str(count) + ext, image)"
   ]
  },
  {
   "cell_type": "code",
   "execution_count": 17,
   "id": "92cc3f48",
   "metadata": {},
   "outputs": [],
   "source": [
    "def black_hat_image(image, shift, count):\n",
    "    kernel = np.ones((shift, shift), np.uint8)\n",
    "    image = cv2.morphologyEx(image, cv2.MORPH_BLACKHAT, kernel)\n",
    "    cv2.imwrite(path + \"/Black_Hat/\" +\n",
    "                str(shift)+'-'+str(count) + ext, image)"
   ]
  },
  {
   "cell_type": "code",
   "execution_count": 18,
   "id": "2d969e3f",
   "metadata": {},
   "outputs": [],
   "source": [
    "def padding_image(image, tBorder, bBorder, lBorder, rBorder, cborder, count):\n",
    "    image = cv2.copyMakeBorder(image, tBorder, bBorder, lBorder,\n",
    "                               rBorder, cv2.BORDER_CONSTANT, value=cborder)\n",
    "    cv2.imwrite(path +\"/Padding/\"+ str(tBorder) +\n",
    "                str(bBorder)+'-'+str(lBorder)+'-'+str(rBorder)+'-'+str(count)+ext, image)"
   ]
  },
  {
   "cell_type": "code",
   "execution_count": 19,
   "id": "5a2db936",
   "metadata": {},
   "outputs": [],
   "source": [
    "# Defining the folder name\n",
    "name_list = ['Dodrup Wangchuk','Khentse Dorji', 'Nar Maya Tamang', 'Tashi Pelden', 'Tenzin Wangmo']"
   ]
  },
  {
   "cell_type": "code",
   "execution_count": 22,
   "id": "3e0b060e",
   "metadata": {
    "scrolled": true
   },
   "outputs": [
    {
     "name": "stdout",
     "output_type": "stream",
     "text": [
      "./Image/Dodrup Wangchuk\n",
      "./Image/Khentse Dorji\n",
      "./Image/Nar Maya Tamang\n",
      "./Image/Tashi Pelden\n",
      "./Image/Tenzin Wangmo\n",
      "Image augmentation completed!\n"
     ]
    }
   ],
   "source": [
    "# Augmentation code\n",
    "for idx in range(len(name_list)):\n",
    "    \n",
    "    # Making code read one folder \n",
    "    current_folder = name_list[idx]\n",
    "    \n",
    "    # Setting current paths\n",
    "    image_path = \"./Dataset/trainingdata/\" + rf\"{current_folder}\"\n",
    "    path = \"./Image/\" + rf\"{current_folder}\" \n",
    "    print(path)\n",
    "    \n",
    "    # Reading the current folder images\n",
    "    image_list = [os.path.join(image_path, f)\n",
    "                 for f in os.listdir(image_path) if f.endswith(ext)]\n",
    "    \n",
    "    # Storing 100 random images from the current folder in lst\n",
    "    current_frame = 0\n",
    "    for i in range(100):\n",
    "        image = Image.open(image_list[random.randint(0, len(image_list)-1)])\n",
    "        image = np.array(image)\n",
    "        cv2.imwrite(path +'/Original/'+str(current_frame)+ ext, image)\n",
    "        current_frame += 1\n",
    "        \n",
    "    # invert_image\n",
    "    pxs = [255, 200, 150, 100, 50]\n",
    "    for i in range(100):\n",
    "        px = pxs[random.randint(0, len(pxs)-1)]\n",
    "        image = Image.open(image_list[random.randint(0, len(image_list)-1)])\n",
    "        image = np.array(image)\n",
    "        invert_image(image, px, i)\n",
    "        \n",
    "    # add_light\n",
    "    gmx = [1.5, 2.5, 3.0, 5.0, 0.7, 0.4, 0.1]\n",
    "    for i in range(100):\n",
    "        gamma = gmx[random.randint(0, len(gmx)-1)]\n",
    "        image = Image.open(image_list[random.randint(0, len(image_list)-1)])\n",
    "        image = np.array(image)\n",
    "        add_light(image, gamma, i)\n",
    "                \n",
    "    # add_light_color\n",
    "    px = 255\n",
    "    gmv = [1.5, 1, 0.7]\n",
    "    for i in range(100):\n",
    "        gamma = gmv[random.randint(0, len(gmv)-1)]\n",
    "        image = Image.open(image_list[random.randint(0, len(image_list)-1)])\n",
    "        image = np.array(image)\n",
    "        add_light_color(image, px, gamma, i)\n",
    "            \n",
    "    # saturation_image\n",
    "    stv = [200, 150, 100, 50]\n",
    "    for i in range(100):\n",
    "        saturation = stv[random.randint(0, len(stv)-1)]\n",
    "        image = Image.open(image_list[random.randint(0, len(image_list)-1)])\n",
    "        image = np.array(image)\n",
    "        saturation_image(image, saturation, i)\n",
    "        \n",
    "    # averaging_blur\n",
    "    shv = [7, 5, 3]\n",
    "    for i in range(100):\n",
    "        shift = shv[random.randint(0, len(shv)-1)]\n",
    "        image = Image.open(image_list[random.randint(0, len(image_list)-1)])\n",
    "        image = np.array(image)\n",
    "        average_blur(image, shift, i)\n",
    "        \n",
    "    # sharpen_image\n",
    "    for i in range(100):\n",
    "        image = Image.open(image_list[random.randint(0, len(image_list)-1)])\n",
    "        image = np.array(image)\n",
    "        sharpen_image(image, i)\n",
    "                \n",
    "    # median_blur\n",
    "    sfv = [7, 5, 3]\n",
    "    for i in range(100):\n",
    "        shift = sfv[random.randint(0, len(sfv)-1)]\n",
    "        image = Image.open(image_list[random.randint(0, len(image_list)-1)])\n",
    "        image = np.array(image)\n",
    "        median_blur(image, shift, i)\n",
    "            \n",
    "    # multiply_image\n",
    "    Rs = [1, 0.5]\n",
    "    Gs = [0.5, 1]\n",
    "    Bs = [1, 0.5]\n",
    "    for i in range(100):\n",
    "        R = Rs[random.randint(0, len(Rs)-1)]\n",
    "        B = Gs[random.randint(0, len(Bs)-1)]\n",
    "        G = Bs[random.randint(0, len(Gs)-1)]\n",
    "        image = Image.open(image_list[random.randint(0, len(image_list)-1)])\n",
    "        image = np.array(image)\n",
    "        multiply_image(image, R, G, B, i)\n",
    "        \n",
    "    # bileleteralBlur\n",
    "    ds = [30, 25, 12, 9, 15]\n",
    "    colors = [150, 100, 75]\n",
    "    spaces = [150, 100, 75]\n",
    "    for i in range(100):\n",
    "        d = ds[random.randint(0, len(ds)-1)]\n",
    "        c = colors[random.randint(0, len(colors)-1)]\n",
    "        s = spaces[random.randint(0, len(spaces)-1)]\n",
    "        image = Image.open(image_list[random.randint(0, len(image_list)-1)])\n",
    "        image = np.array(image)\n",
    "        bileteralBlur(image, d, c, s, i)  \n",
    "            \n",
    "    # erosion_image\n",
    "    shfv = [6, 3, 1]\n",
    "    for i in range(100):\n",
    "        shift = shfv[random.randint(0, len(shfv)-1)]\n",
    "        image = Image.open(image_list[random.randint(0, len(image_list)-1)])\n",
    "        image = np.array(image)\n",
    "        erosion_image(image, shift, i)\n",
    "        \n",
    "    # dilation_image\n",
    "    shfs = [5, 3, 1]\n",
    "    for i in range(100):\n",
    "        shift = shfs[random.randint(0, len(shfs)-1)]\n",
    "        image = Image.open(image_list[random.randint(0, len(image_list)-1)])\n",
    "        image = np.array(image)\n",
    "        dilation_image(image, shift, i)\n",
    "        \n",
    "    # morphological_gradient_image\n",
    "    sfs = [15, 10, 5]\n",
    "    for i in range(100):\n",
    "        shift = sfs[random.randint(0, len(sfs)-1)]\n",
    "        image = Image.open(image_list[random.randint(0, len(image_list)-1)])\n",
    "        image = np.array(image)\n",
    "        morphological_gradient_image(image, shift, i)\n",
    "        \n",
    "    # top_hat_image\n",
    "    sifs = [500, 300, 200]\n",
    "    for i in range(100):\n",
    "        shift = sifs[random.randint(0, len(sifs)-1)]\n",
    "        image = Image.open(image_list[random.randint(0, len(image_list)-1)])\n",
    "        image = np.array(image)\n",
    "        top_hat_image(image, shift, i)\n",
    "        \n",
    "    # black_hat_image\n",
    "    sfsb = [500, 300, 200]\n",
    "    for i in range(100):\n",
    "        shift = sfsb[random.randint(0, len(sfsb)-1)]\n",
    "        image = Image.open(image_list[random.randint(0, len(image_list)-1)])\n",
    "        image = np.array(image)\n",
    "        black_hat_image(image, shift, i)\n",
    "        \n",
    "    # padding_image\n",
    "    tborder = [100, 0]\n",
    "    bborder = [0, 100]\n",
    "    lborder = [100, 0]\n",
    "    rborder = [100, 0]\n",
    "    cborder = [0, 100]\n",
    "    for i in range(100):\n",
    "        tb = tborder[random.randint(0, len(tborder)-1)]\n",
    "        bb = bborder[random.randint(0, len(bborder)-1)]\n",
    "        lb = lborder[random.randint(0, len(lborder)-1)]\n",
    "        rb = rborder[random.randint(0, len(rborder)-1)]\n",
    "        cb = cborder[random.randint(0, len(cborder)-1)]\n",
    "        image = Image.open(image_list[random.randint(0, len(image_list)-1)])\n",
    "        image = np.array(image)\n",
    "        padding_image(image, tb, bb, lb, rb, cb, i)\n",
    "        \n",
    "print(\"Image augmentation completed!\")"
   ]
  }
 ],
 "metadata": {
  "kernelspec": {
   "display_name": "FR",
   "language": "python",
   "name": "fr"
  },
  "language_info": {
   "codemirror_mode": {
    "name": "ipython",
    "version": 3
   },
   "file_extension": ".py",
   "mimetype": "text/x-python",
   "name": "python",
   "nbconvert_exporter": "python",
   "pygments_lexer": "ipython3",
   "version": "3.7.4"
  }
 },
 "nbformat": 4,
 "nbformat_minor": 5
}
