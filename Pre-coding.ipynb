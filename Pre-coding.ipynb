{
 "cells": [
  {
   "cell_type": "code",
   "execution_count": 1,
   "id": "941c385d",
   "metadata": {},
   "outputs": [],
   "source": [
    "# Importing the Libraries Required\n",
    "import os\n",
    "import cv2\n",
    "import string\n",
    "import glob as gb\n",
    "import numpy as np"
   ]
  },
  {
   "cell_type": "code",
   "execution_count": 8,
   "id": "a07341d6",
   "metadata": {},
   "outputs": [],
   "source": [
    "# Creating the directory Structure\n",
    "if not os.path.exists('./Dataset'):\n",
    "    os.makedirs('./Dataset')\n",
    "\n",
    "if not os.path.exists('Dataset/trainingdata'):\n",
    "    os.makedirs('Dataset/trainingdata')\n",
    "\n",
    "if not os.path.exists('Dataset/testingdata'):\n",
    "    os.makedirs('Dataset/testingdata')\n",
    "    \n",
    "if not os.path.exists('Model'):\n",
    "    os.makedirs('Model')\n",
    "\n",
    "# Making folder \n",
    "lists = ['Dodrup Wangchuk','Khentse Dorji', 'Nar Maya Tamang', 'Tashi Pelden', 'Tenzin Wangmo']\n",
    "\n",
    "for i in lists:\n",
    "    if not os.path.exists('Dataset/trainingdata/' + i):\n",
    "        os.makedirs('Dataset/trainingdata/' + i)\n",
    "        \n",
    "    if not os.path.exists('Dataset/testingdata/' + i):\n",
    "        os.makedirs('Dataset/testingdata/' + i)\n",
    "        \n",
    "# Making folder to store the augmented images\n",
    "if not os.path.exists('Image'):\n",
    "    os.makedirs('Image')\n",
    "    \n",
    "files = ['Original', 'Invert', 'Light', 'Dark', 'Light_color', 'Dark_color', 'Saturation', 'Averageing_Blur',\n",
    "        'Sharpen', 'Grayscale', 'Median_Blur', 'Multiply', 'Bileteral_Blur', 'Erosion', 'Dilation',\n",
    "        'Morphological_Gradient', 'Top_Hat', 'Black_Hat', 'Padding']\n",
    "\n",
    "for lst in lists:\n",
    "    for file in files:\n",
    "        if not os.path.exists('Image/' +lst+ '/' +file):\n",
    "            os.makedirs('Image/' +lst+ '/' +file)"
   ]
  },
  {
   "cell_type": "code",
   "execution_count": 6,
   "id": "45f706ef",
   "metadata": {
    "scrolled": true
   },
   "outputs": [
    {
     "data": {
      "text/plain": [
       "['Video/DW.mp4',\n",
       " 'Video/KD.mp4',\n",
       " 'Video/NA.mp4',\n",
       " 'Video/TP.mp4',\n",
       " 'Video/TW.mp4']"
      ]
     },
     "execution_count": 6,
     "metadata": {},
     "output_type": "execute_result"
    }
   ],
   "source": [
    "# Reading the video files\n",
    "folders = gb.glob('Video')\n",
    "list = []\n",
    "for folder in folders:\n",
    "    for i in gb.glob(folder + '/*.mp4'):\n",
    "        list.append(i)\n",
    "        \n",
    "# Making files aligning with the directory\n",
    "list_order = [1, 2, 3, 4, 0]\n",
    "frame_list = [list[i] for i in list_order]\n",
    "frame_list"
   ]
  },
  {
   "cell_type": "code",
   "execution_count": 7,
   "id": "297505f0",
   "metadata": {},
   "outputs": [
    {
     "name": "stdout",
     "output_type": "stream",
     "text": [
      "Extraction for Dodrup Wangchuk completed!\n",
      "Extraction for Khentse Dorji completed!\n",
      "Extraction for Nar Maya Tamang completed!\n",
      "Extraction for Tashi Pelden completed!\n",
      "Extraction for Tenzin Wangmo completed!\n",
      "Total images in training data:  8804\n"
     ]
    }
   ],
   "source": [
    "# Extracting the image from video frames for training data\n",
    "current_frame = 0\n",
    "interrupt = -1\n",
    "length = []\n",
    "\n",
    "# Defining path\n",
    "mode = 'trainingdata'\n",
    "directory = 'Dataset/' + mode + '/'\n",
    "\n",
    "# Defining the folder name\n",
    "name_list = ['Dodrup Wangchuk','Khentse Dorji', 'Nar Maya Tamang', 'Tashi Pelden', 'Tenzin Wangmo']\n",
    "\n",
    "# Iterate the frame_list\n",
    "for idx in range(len(frame_list)):\n",
    "    \n",
    "    # Capture the video\n",
    "    video = cv2.VideoCapture(frame_list[idx])\n",
    "\n",
    "    while(True):\n",
    "        _, frame = video.read()\n",
    "        \n",
    "        # Handel the exception error\n",
    "        try:\n",
    "            train_image = cv2.resize(frame, (256,256), interpolation=cv2.INTER_AREA)\n",
    "        except:\n",
    "            break\n",
    "\n",
    "        cv2.imshow(\"Train\", train_image)\n",
    "        \n",
    "        # Saving the image to its corresponding dataset folders\n",
    "        cv2.imwrite(directory+rf'{name_list[idx]}/'+str(current_frame)+'.jpg', train_image)\n",
    "        length.append(current_frame)\n",
    "        current_frame += 1\n",
    "\n",
    "        interrupt = cv2.waitKey(10)\n",
    "        if interrupt & 0xFF == 27: \n",
    "            break\n",
    "    \n",
    "    # Printing to see if the frame is successfully extracted\n",
    "    print(\"Extraction for \" + rf'{name_list[idx]}' + \" completed!\")\n",
    "\n",
    "    # Release and de-allocate\n",
    "    video.release()\n",
    "    cv2.destroyAllWindows()\n",
    "print(\"Total images in training data: \", len(length))"
   ]
  }
 ],
 "metadata": {
  "kernelspec": {
   "display_name": "FR",
   "language": "python",
   "name": "fr"
  },
  "language_info": {
   "codemirror_mode": {
    "name": "ipython",
    "version": 3
   },
   "file_extension": ".py",
   "mimetype": "text/x-python",
   "name": "python",
   "nbconvert_exporter": "python",
   "pygments_lexer": "ipython3",
   "version": "3.7.4"
  },
  "vscode": {
   "interpreter": {
    "hash": "97cc609b13305c559618ec78a438abc56230b9381f827f22d070313b9a1f3777"
   }
  }
 },
 "nbformat": 4,
 "nbformat_minor": 5
}
